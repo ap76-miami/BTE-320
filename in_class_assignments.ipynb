{
  "nbformat": 4,
  "nbformat_minor": 0,
  "metadata": {
    "colab": {
      "provenance": [],
      "authorship_tag": "ABX9TyOQ+BbD710aH7E6MjTZGmEr",
      "include_colab_link": true
    },
    "kernelspec": {
      "name": "python3",
      "display_name": "Python 3"
    },
    "language_info": {
      "name": "python"
    }
  },
  "cells": [
    {
      "cell_type": "markdown",
      "metadata": {
        "id": "view-in-github",
        "colab_type": "text"
      },
      "source": [
        "<a href=\"https://colab.research.google.com/github/ap76-miami/BTE-320/blob/main/in_class_assignments.ipynb\" target=\"_parent\"><img src=\"https://colab.research.google.com/assets/colab-badge.svg\" alt=\"Open In Colab\"/></a>"
      ]
    },
    {
      "cell_type": "code",
      "execution_count": null,
      "metadata": {
        "colab": {
          "base_uri": "https://localhost:8080/"
        },
        "id": "keaRLjYoClHH",
        "outputId": "e58118d0-6236-463a-81d3-6af2be81bc38"
      },
      "outputs": [
        {
          "output_type": "stream",
          "name": "stdout",
          "text": [
            "244.998\n"
          ]
        }
      ],
      "source": [
        "#Shape Area Calculator\n",
        "r = 3\n",
        "h = 10\n",
        "pi = 3.141\n",
        "SArea = 2 * pi * r ** 2 + 2 * pi * r * h\n",
        "\n",
        "print(SArea)"
      ]
    },
    {
      "cell_type": "code",
      "source": [
        "#Rock, Paper, Scissors Game (with while loop)\n",
        "start_game = input('Do you want to play a game? ')\n",
        "\n",
        "if start_game == 'yes':\n",
        "\n",
        "  while True:\n",
        "\n",
        "    P1 = input('Player One chooses: ')\n",
        "    P2 = input('Player Two chooses: ')\n",
        "\n",
        "    if P1 == 'rock' and P2 == 'scissors':\n",
        "        print('Player One wins.')\n",
        "\n",
        "    elif P1 == 'rock' and P2 == 'paper':\n",
        "        print('Player Two wins.')\n",
        "\n",
        "    elif P1 == 'paper' and P2 == 'rock':\n",
        "        print('Player One wins.')\n",
        "\n",
        "    elif P1 == 'paper' and P2 == 'scissors':\n",
        "        print('Player Two wins.')\n",
        "\n",
        "    elif P1 == 'scissors' and P2 == 'paper':\n",
        "        print('Player One wins.')\n",
        "\n",
        "    elif P1 == 'scissors' and P2 == 'rock':\n",
        "        print('Player Two wins.')\n",
        "\n",
        "    else:\n",
        "        print('Draw.')\n",
        "\n",
        "    play_again = input('Do you want to play again? (yes or no): ')\n",
        "    if play_again == 'no':\n",
        "            break\n",
        "\n",
        "  else:\n",
        "    print('Bye')\n",
        "\n"
      ],
      "metadata": {
        "colab": {
          "base_uri": "https://localhost:8080/"
        },
        "id": "HLSSkscgD19v",
        "outputId": "0c0a2a2f-247e-4cc8-f7ce-7a1ef0bfb398"
      },
      "execution_count": null,
      "outputs": [
        {
          "name": "stdout",
          "output_type": "stream",
          "text": [
            "Do you want to play a game? yes\n",
            "Player One chooses: rock\n",
            "Player Two chooses: rock\n",
            "Draw.\n",
            "Do you want to play again? (yes or no): yes\n",
            "Player One chooses: rock\n",
            "Player Two chooses: rock\n",
            "Draw.\n",
            "Do you want to play again? (yes or no): no\n"
          ]
        }
      ]
    },
    {
      "cell_type": "code",
      "source": [
        "#Numerical Calculator\n",
        "N1 = float(input('Enter first number: '))\n",
        "OP = str(input('Enter operator: '))\n",
        "N2 = float(input('Enter second number: '))\n",
        "\n",
        "if OP == '+' or OP == 'plus':\n",
        "    print(N1 + N2)\n",
        "\n",
        "elif OP == '-' or OP == 'minus':\n",
        "    print(N1 - N2)\n",
        "\n",
        "elif OP == '*' or OP == 'times':\n",
        "    print(N1 * N2)\n",
        "\n",
        "elif OP == '/' or OP == 'divided by':\n",
        "  if N2 == 0:\n",
        "      print('cannot divide by zero')\n",
        "  else:\n",
        "    print(N1 / N2)\n",
        "\n",
        "elif OP == '**' or OP == '^' or OP == 'to the power of':\n",
        "    print(N1 ** N2)\n"
      ],
      "metadata": {
        "id": "GU_invR-Wwk3",
        "colab": {
          "base_uri": "https://localhost:8080/"
        },
        "outputId": "3c452006-2032-4f0c-dd62-834e0256b492"
      },
      "execution_count": null,
      "outputs": [
        {
          "output_type": "stream",
          "name": "stdout",
          "text": [
            "Enter first number: 5\n",
            "Enter operator: to the power of\n",
            "Enter second number: 3\n",
            "125.0\n"
          ]
        }
      ]
    },
    {
      "cell_type": "code",
      "source": [
        "#Parking Garage\n",
        "flatRate = 5\n",
        "\n",
        "hourlyRate = 2.5\n",
        "\n",
        "\n",
        "\n",
        "for h in range(1, 9):\n",
        "\n",
        "  charge = flatRate + hourlyRate * h\n",
        "\n",
        "  if charge < 10:\n",
        "\n",
        "    charge = 10\n",
        "\n",
        "  elif charge > 20:\n",
        "\n",
        "    charge = 20\n",
        "\n",
        "  print(h, charge)"
      ],
      "metadata": {
        "colab": {
          "base_uri": "https://localhost:8080/"
        },
        "id": "OlWhDO4Urrqz",
        "outputId": "82ca061f-3d9f-463e-cb91-19777d4dfe56"
      },
      "execution_count": null,
      "outputs": [
        {
          "output_type": "stream",
          "name": "stdout",
          "text": [
            "1 10\n",
            "2 10.0\n",
            "3 12.5\n",
            "4 15.0\n",
            "5 17.5\n",
            "6 20.0\n",
            "7 20\n",
            "8 20\n"
          ]
        }
      ]
    },
    {
      "cell_type": "code",
      "source": [
        "#Movie Theater\n",
        "ticketPrice = 10\n",
        "\n",
        "fixedCost = 200\n",
        "\n",
        "fixedAttendees = 20\n",
        "\n",
        "\n",
        "\n",
        "for ad in range(0, 201, 25):\n",
        "\n",
        "  additionalAttendees = round(2 * ad  ** 0.5)\n",
        "\n",
        "  profit = (fixedAttendees + additionalAttendees) * ticketPrice - ad - fixedCost\n",
        "\n",
        "  print(ad, profit)"
      ],
      "metadata": {
        "colab": {
          "base_uri": "https://localhost:8080/"
        },
        "id": "H2Jl0I3brx5t",
        "outputId": "172f2aba-8bdd-4ddd-8af4-35135c26af0a"
      },
      "execution_count": null,
      "outputs": [
        {
          "output_type": "stream",
          "name": "stdout",
          "text": [
            "0 0\n",
            "25 75\n",
            "50 90\n",
            "75 95\n",
            "100 100\n",
            "125 95\n",
            "150 90\n",
            "175 85\n",
            "200 80\n"
          ]
        }
      ]
    },
    {
      "cell_type": "code",
      "source": [
        "#Adding User Inputs to a List\n",
        "L = []\n",
        "\n",
        "while True:\n",
        "    item = int(input('Give a value to add to the list: '))\n",
        "    if item == 0:\n",
        "        break\n",
        "    L.append(item)\n",
        "\n",
        "L\n"
      ],
      "metadata": {
        "colab": {
          "base_uri": "https://localhost:8080/"
        },
        "id": "NMD0PBF-mcmY",
        "outputId": "89b08869-9d3d-4db9-b77c-ec3c8d1a7764"
      },
      "execution_count": null,
      "outputs": [
        {
          "name": "stdout",
          "output_type": "stream",
          "text": [
            "Give a value to add to the list: 1\n",
            "Give a value to add to the list: 2\n",
            "Give a value to add to the list: 3\n",
            "Give a value to add to the list: 76\n",
            "Give a value to add to the list: 89\n",
            "Give a value to add to the list: 0\n"
          ]
        },
        {
          "output_type": "execute_result",
          "data": {
            "text/plain": [
              "[1, 2, 3, 76, 89]"
            ]
          },
          "metadata": {},
          "execution_count": 4
        }
      ]
    },
    {
      "cell_type": "code",
      "source": [
        "#Months2NumbersDictionary\n",
        "months = {}\n",
        "\n",
        "names = [ \" Jan\", \" Feb\", \" Mar\", \" Apr\", \" May\", \" Jun\", \" Jul\", \" Aug\", \" Sep\", \"Oct\", \"Nov\", \"Dec\"]\n",
        "numbers = [1, 2, 3, 4, 5, 6, 7, 8, 9, 10, 11, 12]\n",
        "\n",
        "\n",
        "for i in range(len(numbers)):\n",
        "    months[numbers[i]] = names[i]\n",
        "\n",
        "months"
      ],
      "metadata": {
        "colab": {
          "base_uri": "https://localhost:8080/"
        },
        "id": "0XFIoMUtWJUy",
        "outputId": "ba2c7aff-c72c-4067-945d-d131e0e55ce2"
      },
      "execution_count": null,
      "outputs": [
        {
          "output_type": "execute_result",
          "data": {
            "text/plain": [
              "{1: ' Jan',\n",
              " 2: ' Feb',\n",
              " 3: ' Mar',\n",
              " 4: ' Apr',\n",
              " 5: ' May',\n",
              " 6: ' Jun',\n",
              " 7: ' Jul',\n",
              " 8: ' Aug',\n",
              " 9: ' Sep',\n",
              " 10: 'Oct',\n",
              " 11: 'Nov',\n",
              " 12: 'Dec'}"
            ]
          },
          "metadata": {},
          "execution_count": 18
        }
      ]
    },
    {
      "cell_type": "code",
      "source": [
        "annual_salary = float(input(\"Enter your annual salary: \"))\n",
        "portion_saved = float(input(\"Enter the percent of your salary to save, as a decimal: \"))\n",
        "total_cost = float(input(\"Enter the cost of your dream home: \"))\n",
        "\n",
        "portion_down_payment = 0.25\n",
        "current_savings = 0\n",
        "r = 0.04\n",
        "monthly_salary = annual_salary / 12\n",
        "down_payment = portion_down_payment * total_cost\n",
        "\n",
        "months = 0\n",
        "\n",
        "while current_savings < down_payment:\n",
        "    current_savings += current_savings * r / 12\n",
        "    current_savings += portion_saved * monthly_salary\n",
        "    months += 1\n",
        "\n",
        "print(\"Number of months:\", months)"
      ],
      "metadata": {
        "colab": {
          "base_uri": "https://localhost:8080/"
        },
        "id": "g_XjO57CrOrk",
        "outputId": "0a299c4d-47cd-486a-d9b6-d6fb528c1682"
      },
      "execution_count": null,
      "outputs": [
        {
          "output_type": "stream",
          "name": "stdout",
          "text": [
            "Enter your annual salary: 900000\n",
            "Enter the percent of your salary to save, as a decimal: 0.4\n",
            "Enter the cost of your dream home: 4000000\n",
            "Number of months: 32\n"
          ]
        }
      ]
    },
    {
      "cell_type": "code",
      "source": [
        "annual_salary = float(input(\"Enter your annual salary: \"))\n",
        "portion_saved = float(input(\"Enter the percent of your salary to save, as a decimal: \"))\n",
        "total_cost = float(input(\"Enter the cost of your dream home: \"))\n",
        "semi_annual_raise = float(input(\"Enter the semi-annual raise, as a decimal: \"))\n",
        "\n",
        "portion_down_payment = 0.25\n",
        "current_savings = 0\n",
        "r = 0.04\n",
        "monthly_salary = annual_salary / 12\n",
        "down_payment = portion_down_payment * total_cost\n",
        "\n",
        "months = 0\n",
        "\n",
        "while current_savings < down_payment:\n",
        "    current_savings += current_savings * r / 12\n",
        "    current_savings += portion_saved * monthly_salary\n",
        "    months += 1\n",
        "\n",
        "    if months % 6 == 0:\n",
        "        annual_salary += annual_salary * semi_annual_raise\n",
        "        monthly_salary = annual_salary / 12\n",
        "\n",
        "print(\"Number of months:\", months)"
      ],
      "metadata": {
        "colab": {
          "base_uri": "https://localhost:8080/"
        },
        "id": "9BcCrdbxsauj",
        "outputId": "b8b6db94-bbee-4a19-e825-992b5852a1d0"
      },
      "execution_count": null,
      "outputs": [
        {
          "output_type": "stream",
          "name": "stdout",
          "text": [
            "Enter your annual salary: 120000\n",
            "Enter the percent of your salary to save, as a decimal: .3\n",
            "Enter the cost of your dream home: 900000\n",
            "Enter the semi-annual raise, as a decimal: .1\n",
            "Number of months: 49\n"
          ]
        }
      ]
    },
    {
      "cell_type": "code",
      "source": [
        "def range_check(number, low, high):\n",
        "    if low <= number <= high:\n",
        "        print(f\"{number} is within the range {low} to {high}.\")\n",
        "    else:\n",
        "        print(f\"{number} is not within the range {low} to {high}.\")\n",
        "\n",
        "number = float(input(\"Enter the number to check: \"))\n",
        "low = float(input(\"Enter the low end of the range: \"))\n",
        "high = float(input(\"Enter the high end of the range: \"))\n",
        "\n",
        "range_check(number, low, high)"
      ],
      "metadata": {
        "colab": {
          "base_uri": "https://localhost:8080/"
        },
        "id": "titF-lqeuMPt",
        "outputId": "68cbe237-3043-4b3f-a903-ba636e8996c2"
      },
      "execution_count": null,
      "outputs": [
        {
          "output_type": "stream",
          "name": "stdout",
          "text": [
            "Enter the number to check: 10\n",
            "Enter the low end of the range: -15\n",
            "Enter the high end of the range: 11\n",
            "10.0 is within the range -15.0 to 11.0.\n"
          ]
        }
      ]
    },
    {
      "cell_type": "code",
      "source": [
        "def range_check_bool(number, low, high):\n",
        "    return low <= number <= high\n",
        "\n",
        "number = float(input(\"Enter the number to check: \"))\n",
        "low = float(input(\"Enter the low end of the range: \"))\n",
        "high = float(input(\"Enter the high end of the range: \"))\n",
        "\n",
        "result = range_check_bool(number, low, high)\n",
        "print(result)"
      ],
      "metadata": {
        "id": "71VSExf5vsJP",
        "outputId": "5fabc224-5867-4329-a85b-cc348e4c3be7",
        "colab": {
          "base_uri": "https://localhost:8080/"
        }
      },
      "execution_count": null,
      "outputs": [
        {
          "output_type": "stream",
          "name": "stdout",
          "text": [
            "Enter the number to check: 19\n",
            "Enter the low end of the range: 20\n",
            "Enter the high end of the range: 30\n",
            "False\n"
          ]
        }
      ]
    },
    {
      "cell_type": "code",
      "source": [
        "#Fee Calculation and Display\n",
        "\n",
        "def displayFee(fee):\n",
        "  print(fee)\n",
        "\n",
        "def calcFee(hours, decimals=2):\n",
        "  fee = 5 + hours * 2.5\n",
        "  fee = round (fee, decimals)\n",
        "  return fee\n",
        "\n",
        "if __name__ == '__main__':\n",
        " h = int (input('Enter number of hours: '))\n",
        " displayFee(calcFee(h))"
      ],
      "metadata": {
        "colab": {
          "base_uri": "https://localhost:8080/"
        },
        "id": "sstHV92__nhs",
        "outputId": "6b1f5992-469c-4910-bc63-5c061fc2b0bc"
      },
      "execution_count": 6,
      "outputs": [
        {
          "output_type": "stream",
          "name": "stdout",
          "text": [
            "Enter number of hours: 7\n",
            "22.5\n"
          ]
        }
      ]
    },
    {
      "cell_type": "code",
      "source": [
        "#Recursion\n",
        "\n",
        "def reverse(s):\n",
        "  if len(s) == 1:\n",
        "    return s\n",
        "  else:\n",
        "    return s[-1] + reverse(s[1:-1]) + s[0]\n",
        "    return reverse (s[1:]) + s[0]\n",
        "    return s[-1] + reverse(s[:-1])\n",
        "\n",
        "print(reverse('ThisIsATest'))\n",
        "\n"
      ],
      "metadata": {
        "colab": {
          "base_uri": "https://localhost:8080/"
        },
        "id": "X6lt1r83AwVY",
        "outputId": "6ec22c44-db54-47c3-e761-b580441df935"
      },
      "execution_count": 10,
      "outputs": [
        {
          "output_type": "stream",
          "name": "stdout",
          "text": [
            "tseTAsIsihT\n"
          ]
        }
      ]
    },
    {
      "cell_type": "code",
      "source": [
        "#weighted list\n",
        "\n",
        "L = [1,2,3,4,5]\n",
        "w = [0.1,0.3,0.4,1,0.2]\n",
        "\n",
        "def weighted_average(L, w):\n",
        "    try:\n",
        "        return sum(l * weight for l, weight in zip(L, w)) / sum(w)\n",
        "    except ZeroDivisionError:\n",
        "        return []\n",
        "    except TypeError:\n",
        "        return []\n",
        "    except Exception:\n",
        "        return float('nan')\n",
        "\n",
        "print(weighted_average(L, w))"
      ],
      "metadata": {
        "colab": {
          "base_uri": "https://localhost:8080/"
        },
        "id": "NU0wumeU99xH",
        "outputId": "270cbeeb-6d8d-42bc-fde1-cf168c258e4c"
      },
      "execution_count": 7,
      "outputs": [
        {
          "output_type": "stream",
          "name": "stdout",
          "text": [
            "3.45\n"
          ]
        }
      ]
    }
  ]
}