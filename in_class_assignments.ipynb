{
  "nbformat": 4,
  "nbformat_minor": 0,
  "metadata": {
    "colab": {
      "provenance": [],
      "authorship_tag": "ABX9TyOAqcmk0dwgL5mLHfxP1Wpx",
      "include_colab_link": true
    },
    "kernelspec": {
      "name": "python3",
      "display_name": "Python 3"
    },
    "language_info": {
      "name": "python"
    }
  },
  "cells": [
    {
      "cell_type": "markdown",
      "metadata": {
        "id": "view-in-github",
        "colab_type": "text"
      },
      "source": [
        "<a href=\"https://colab.research.google.com/github/ap76-miami/BTE-320/blob/main/in_class_assignments.ipynb\" target=\"_parent\"><img src=\"https://colab.research.google.com/assets/colab-badge.svg\" alt=\"Open In Colab\"/></a>"
      ]
    },
    {
      "cell_type": "code",
      "execution_count": null,
      "metadata": {
        "colab": {
          "base_uri": "https://localhost:8080/"
        },
        "id": "keaRLjYoClHH",
        "outputId": "e58118d0-6236-463a-81d3-6af2be81bc38"
      },
      "outputs": [
        {
          "output_type": "stream",
          "name": "stdout",
          "text": [
            "244.998\n"
          ]
        }
      ],
      "source": [
        "r = 3\n",
        "h = 10\n",
        "pi = 3.141\n",
        "SArea = 2 * pi * r ** 2 + 2 * pi * r * h\n",
        "\n",
        "print(SArea)"
      ]
    },
    {
      "cell_type": "code",
      "source": [
        "P1 = input('Player One chooses: ')\n",
        "P2 = input('Player Two chooses: ')\n",
        "\n",
        "if P1 == 'rock' and P2 == 'scissors':\n",
        "    print('Player One wins.')\n",
        "\n",
        "elif P1 == 'rock' and P2 == 'paper':\n",
        "    print('Player Two wins.')\n",
        "\n",
        "elif P1 == 'paper' and P2 == 'rock':\n",
        "    print('Player One wins.')\n",
        "\n",
        "elif P1 == 'paper' and P2 == 'scissors':\n",
        "    print('Player Two wins.')\n",
        "\n",
        "elif P1 == 'scissors' and P2 == 'paper':\n",
        "    print('Player One wins.')\n",
        "\n",
        "elif P1 == 'scissors' and P2 == 'rock':\n",
        "    print('Player Two wins.')\n",
        "\n",
        "else:\n",
        "    print('Draw.')"
      ],
      "metadata": {
        "colab": {
          "base_uri": "https://localhost:8080/"
        },
        "id": "HLSSkscgD19v",
        "outputId": "4fd8fef7-f267-4c61-ed91-71818308f536"
      },
      "execution_count": null,
      "outputs": [
        {
          "output_type": "stream",
          "name": "stdout",
          "text": [
            "Player One chooses: paper\n",
            "Player Two chooses: paper\n",
            "Draw.\n"
          ]
        }
      ]
    },
    {
      "cell_type": "code",
      "source": [
        "N1 = float(input('Enter first number: '))\n",
        "OP = str(input('Enter operator: '))\n",
        "N2 = float(input('Enter second number: '))\n",
        "\n",
        "if OP == '+' or OP == 'plus':\n",
        "    print(N1 + N2)\n",
        "\n",
        "elif OP == '-' or OP == 'minus':\n",
        "    print(N1 - N2)\n",
        "\n",
        "elif OP == '*' or OP == 'times':\n",
        "    print(N1 * N2)\n",
        "\n",
        "elif OP == '/' or OP == 'divided by':\n",
        "  if N2 == 0:\n",
        "      print('cannot divide by zero')\n",
        "  else:\n",
        "    print(N1 / N2)\n",
        "\n",
        "elif OP == '**' or OP == '^' or OP == 'to the power of':\n",
        "    print(N1 ** N2)\n"
      ],
      "metadata": {
        "id": "GU_invR-Wwk3",
        "colab": {
          "base_uri": "https://localhost:8080/"
        },
        "outputId": "3c452006-2032-4f0c-dd62-834e0256b492"
      },
      "execution_count": 15,
      "outputs": [
        {
          "output_type": "stream",
          "name": "stdout",
          "text": [
            "Enter first number: 5\n",
            "Enter operator: to the power of\n",
            "Enter second number: 3\n",
            "125.0\n"
          ]
        }
      ]
    }
  ]
}